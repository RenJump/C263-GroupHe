{
 "cells": [
  {
   "cell_type": "code",
   "execution_count": null,
   "id": "20dd1979-f231-4144-bd74-d4d6de8f6386",
   "metadata": {},
   "outputs": [],
   "source": [
    "import numpy as np\n",
    "import pandas as pd"
   ]
  },
  {
   "cell_type": "code",
   "execution_count": null,
   "id": "129ec69d-fccd-4012-9e1b-4746ff95a204",
   "metadata": {},
   "outputs": [],
   "source": [
    "sample_data = pd.read_csv(r'C:\\Users\\RenJump\\PycharmProjects\\untitled\\tabsyn\\2022data\\train_data_2022_processed.csv')"
   ]
  },
  {
   "cell_type": "code",
   "execution_count": null,
   "id": "ffa48ce3-863b-479a-ba21-f2a8b200d7de",
   "metadata": {},
   "outputs": [],
   "source": [
    "col_type = pd.read_pickle(r'C:\\Users\\RenJump\\PycharmProjects\\untitled\\tabsyn\\2022data\\feature_description.pkl')"
   ]
  },
  {
   "cell_type": "code",
   "execution_count": null,
   "id": "a31549e2-d914-42a0-9ddc-3a633e6dfeb2",
   "metadata": {},
   "outputs": [],
   "source": [
    "col_type['categorical']"
   ]
  },
  {
   "cell_type": "code",
   "execution_count": null,
   "id": "f48d089d-94f3-4964-84fe-632e7ed51095",
   "metadata": {},
   "outputs": [],
   "source": [
    "col_type['categorical'] = [#'log_id',\n",
    " #'user_id',\n",
    " 'age',\n",
    " 'gender',\n",
    " 'residence',\n",
    " 'series_dev',\n",
    " 'series_group',\n",
    " 'emui_dev',\n",
    " 'device_name',\n",
    " 'net_type',\n",
    " #'task_id',\n",
    " #'adv_id',\n",
    " 'creat_type_cd',\n",
    " 'inter_type_cd',\n",
    " 'slot_id',\n",
    " 'spread_app_id',\n",
    " 'hispace_app_tags',\n",
    " 'app_second_class',\n",
    " 'city_rank']"
   ]
  },
  {
   "cell_type": "code",
   "execution_count": null,
   "id": "6ad53b0f-a28a-4be5-b55f-46da38061269",
   "metadata": {},
   "outputs": [],
   "source": [
    "for i in ['city_rank',\n",
    "'site_id',\n",
    "'pt_d',\n",
    "'user_id_site_id_nunique',\n",
    "'age_spread_app_id_nunique',\n",
    "'gender_site_id_nunique']:\n",
    "    col_type['numerical'].remove(i)"
   ]
  },
  {
   "cell_type": "code",
   "execution_count": null,
   "id": "94c955c9-d99d-41c1-b34e-3245672661b5",
   "metadata": {},
   "outputs": [],
   "source": [
    "\n",
    "sample_data[col_type['categorical']].columns\n",
    "   "
   ]
  },
  {
   "cell_type": "code",
   "execution_count": null,
   "id": "e675608b-3610-46a9-be1e-5f8e62d24a64",
   "metadata": {},
   "outputs": [],
   "source": [
    "sample_data[col_type['numerical']].columns "
   ]
  },
  {
   "cell_type": "code",
   "execution_count": null,
   "id": "ec06d428-d5bb-4140-a15a-43ffe51b0b2e",
   "metadata": {},
   "outputs": [],
   "source": [
    "total_col = col_type['numerical']+col_type['categorical']\n",
    "total_col.append('label')\n",
    "sample_data = sample_data[total_col]"
   ]
  },
  {
   "cell_type": "code",
   "execution_count": null,
   "id": "59158e06-1cd5-44c6-9436-3e7600829dd6",
   "metadata": {},
   "outputs": [],
   "source": [
    "resampled_df = resampled_df[total_col]\n",
    "resampled_df"
   ]
  },
  {
   "cell_type": "code",
   "execution_count": null,
   "id": "b683ad8f-2260-4d63-b5cf-dde9ff65498d",
   "metadata": {},
   "outputs": [],
   "source": [
    "resampled_df.to_csv(r'C:\\Users\\RenJump\\PycharmProjects\\untitled\\tabsyn\\2022data\\re_train_data_2022_processed.csv')"
   ]
  },
  {
   "cell_type": "code",
   "execution_count": null,
   "id": "f2607fe5-4e26-42c4-8041-31d89b4cd0aa",
   "metadata": {},
   "outputs": [],
   "source": [
    "import json\n",
    "\n",
    "# 数据字典\n",
    "data = {\n",
    "    \"name\": \"amazon\",\n",
    "    \"task_type\": \"binclass\",  # binclass or regression\n",
    "    \"header\": \"infer\",\n",
    "    \"column_names\": [\n",
    "        \"device_size\", \"app_score\", \"u_refreshTimes\", \"u_feedLifeCycle\",\n",
    "        \"log_id_count\", \"user_id_count\", \"age_count\", \"gender_count\",\n",
    "        \"residence_count\", \"city_count\", \"series_dev_count\",\n",
    "        \"series_group_count\", \"emui_dev_count\", \"device_name_count\",\n",
    "        \"net_type_count\", \"task_id_count\", \"adv_id_count\",\n",
    "        \"creat_type_cd_count\", \"adv_prim_id_count\", \"inter_type_cd_count\",\n",
    "        \"slot_id_count\", \"spread_app_id_count\", \"hispace_app_tags_count\",\n",
    "        \"app_second_class_count\", \"user_id_task_id_nunique\",\n",
    "        \"user_id_adv_id_nunique\", \"user_id_adv_prim_id_nunique\",\n",
    "        \"user_id_slot_id_nunique\", \"user_id_spread_app_id_nunique\",\n",
    "        \"age_task_id_nunique\", \"age_adv_id_nunique\", \"age_adv_prim_id_nunique\",\n",
    "        \"age_slot_id_nunique\", \"age_site_id_nunique\", \"gender_task_id_nunique\",\n",
    "        \"gender_adv_id_nunique\", \"gender_adv_prim_id_nunique\",\n",
    "        \"gender_slot_id_nunique\", \"gender_spread_app_id_nunique\",\n",
    "        \"user_id_task_id_nunique_target_enc\",\n",
    "        \"user_id_adv_id_nunique_target_enc\",\n",
    "        \"user_id_adv_prim_id_nunique_target_enc\",\n",
    "        \"user_id_slot_id_nunique_target_enc\",\n",
    "        \"user_id_site_id_nunique_target_enc\",\n",
    "        \"user_id_spread_app_id_nunique_target_enc\",\n",
    "        \"age_task_id_nunique_target_enc\", \"age_adv_id_nunique_target_enc\",\n",
    "        \"age_adv_prim_id_nunique_target_enc\", \"age_slot_id_nunique_target_enc\",\n",
    "        \"age_site_id_nunique_target_enc\",\n",
    "        \"age_spread_app_id_nunique_target_enc\",\n",
    "        \"gender_task_id_nunique_target_enc\", \"gender_adv_id_nunique_target_enc\",\n",
    "        \"gender_adv_prim_id_nunique_target_enc\",\n",
    "        \"gender_slot_id_nunique_target_enc\",\n",
    "        \"gender_site_id_nunique_target_enc\",\n",
    "        \"gender_spread_app_id_nunique_target_enc\", \"net_type_target_enc\",\n",
    "        \"task_id_target_enc\", \"adv_id_target_enc\", \"adv_prim_id_target_enc\",\n",
    "        \"age_target_enc\", \"app_second_class_target_enc\", \"city_target_enc\",\n",
    "        \"user_id_target_enc\", \"user_id_count_target_enc\",\n",
    "        \"device_name_target_enc\", \"slot_id_target_enc\", \"age\", \"gender\",\n",
    "        \"residence\", \"series_dev\", \"series_group\", \"emui_dev\", \"device_name\",\n",
    "        \"net_type\", \"creat_type_cd\", \"inter_type_cd\", \"slot_id\",\n",
    "        \"spread_app_id\", \"hispace_app_tags\", \"app_second_class\", \"city_rank\",\n",
    "        \"label\"\n",
    "    ],\n",
    "    \"num_col_idx\": list(range(0, 68)),\n",
    "    \"cat_col_idx\": list(range(68, 83)),\n",
    "    \"target_col_idx\": [83],\n",
    "    \"file_type\": \"csv\",\n",
    "    \"data_path\": \"data/2022DIGIX/2022DIGIX.csv\",\n",
    "    \"test_path\": None\n",
    "}\n"
   ]
  },
  {
   "cell_type": "code",
   "execution_count": null,
   "id": "1ba3423a-7133-4dcb-85c7-a7325613548b",
   "metadata": {},
   "outputs": [],
   "source": [
    "\n",
    "# 写入JSON文件\n",
    "with open(r'C:\\Users\\RenJump\\PycharmProjects\\untitled\\tabsyn\\data\\Info\\amazon.json', 'w') as json_file:\n",
    "    json.dump(data, json_file, indent=4)  # 使用indent参数美化输出格式\n",
    "\n",
    "print(\"数据已保存为JSON文件。\")"
   ]
  },
  {
   "cell_type": "code",
   "execution_count": null,
   "id": "8893d56b-4736-4e26-add6-7038eac76fa8",
   "metadata": {},
   "outputs": [],
   "source": [
    "total_data = pd.DataFrame()\n",
    "for i in range(10):\n",
    "    data = pd.read_csv(r'C:\\Users\\RenJump\\PycharmProjects\\untitled\\tabsyn\\synthetic\\amazon\\tabsyn_{}.csv'.format(i))\n",
    "    total_data = total_data.append(data)\n",
    "#total_data.to_csv(r'C:\\Users\\RenJump\\PycharmProjects\\untitled\\tabsyn\\synthetic\\amazon\\tabsyn.csv')\n"
   ]
  },
  {
   "cell_type": "code",
   "execution_count": null,
   "id": "4f1b6501-cce1-412a-b6d6-711abb28c246",
   "metadata": {},
   "outputs": [],
   "source": [
    "total_data.to_csv(r'C:\\Users\\RenJump\\PycharmProjects\\untitled\\tabsyn\\synthetic\\amazon\\tabsyn.csv', index=False)"
   ]
  },
  {
   "cell_type": "code",
   "execution_count": null,
   "id": "7192941e-49bd-42e1-a3a3-560a2f599784",
   "metadata": {},
   "outputs": [],
   "source": [
    "sample_data = pd.read_csv(r'C:\\Users\\RenJump\\PycharmProjects\\untitled\\tabsyn\\synthetic\\amazon\\tabsyn_1step.csv')\n",
    "real_data = pd.read_csv(r'C:\\Users\\RenJump\\PycharmProjects\\untitled\\tabsyn\\synthetic\\amazon\\real.csv')\n"
   ]
  }
 ],
 "metadata": {
  "kernelspec": {
   "display_name": "pytorch",
   "language": "python",
   "name": "pytorch"
  },
  "language_info": {
   "codemirror_mode": {
    "name": "ipython",
    "version": 3
   },
   "file_extension": ".py",
   "mimetype": "text/x-python",
   "name": "python",
   "nbconvert_exporter": "python",
   "pygments_lexer": "ipython3",
   "version": "3.7.11"
  }
 },
 "nbformat": 4,
 "nbformat_minor": 5
}
