{
  "nbformat": 4,
  "nbformat_minor": 0,
  "metadata": {
    "colab": {
      "provenance": []
    },
    "kernelspec": {
      "name": "python3",
      "display_name": "Python 3"
    },
    "language_info": {
      "name": "python"
    }
  },
  "cells": [
    {
      "cell_type": "code",
      "execution_count": 2,
      "metadata": {
        "id": "IPMctWTAgxsm",
        "colab": {
          "base_uri": "https://localhost:8080/"
        },
        "outputId": "364fb054-b12a-4b73-8be1-f070a5a76944"
      },
      "outputs": [
        {
          "output_type": "stream",
          "name": "stdout",
          "text": [
            "Drive already mounted at /content/drive; to attempt to forcibly remount, call drive.mount(\"/content/drive\", force_remount=True).\n"
          ]
        }
      ],
      "source": [
        "from google.colab import drive\n",
        "drive.mount('/content/drive')"
      ]
    },
    {
      "cell_type": "code",
      "source": [
        "import pandas as pd\n",
        "import numpy as np\n",
        "import tensorflow as tf\n",
        "from sklearn.metrics import roc_auc_score\n",
        "from sklearn.model_selection import train_test_split\n",
        "from sklearn.preprocessing import MinMaxScaler, LabelEncoder\n",
        "from tqdm import tqdm\n",
        "import time"
      ],
      "metadata": {
        "id": "23Dww-RWl49Q"
      },
      "execution_count": 3,
      "outputs": []
    },
    {
      "cell_type": "code",
      "source": [
        "chunkSize = 1000000\n",
        "chunks = []\n",
        "index = 0\n",
        "num_of_chunk = 0\n",
        "train_df = pd.DataFrame()\n",
        "\n",
        "for chunk in tqdm(pd.read_csv('/content/drive/My Drive/train_data_ads.csv', iterator=True, sep=',', chunksize=chunkSize)):\n",
        "    num_of_chunk += 1\n",
        "    chunk.reset_index(drop=True, inplace=True)\n",
        "    sampled_chunk = chunk.sample(frac=0.5, replace=False, random_state=123)\n",
        "    train_df = pd.concat([train_df, sampled_chunk], ignore_index=True)"
      ],
      "metadata": {
        "colab": {
          "base_uri": "https://localhost:8080/"
        },
        "id": "yLGc0U-QoXT3",
        "outputId": "ff092aba-7d7c-4469-d8e8-023af7e97da2"
      },
      "execution_count": 4,
      "outputs": [
        {
          "output_type": "stream",
          "name": "stderr",
          "text": [
            "1it [00:04,  4.44s/it]/usr/local/lib/python3.10/dist-packages/tqdm/std.py:1181: DtypeWarning: Columns (28,29,30) have mixed types. Specify dtype option on import or set low_memory=False.\n",
            "  for obj in iterable:\n",
            "2it [00:10,  5.67s/it]/usr/local/lib/python3.10/dist-packages/tqdm/std.py:1181: DtypeWarning: Columns (28,29,30) have mixed types. Specify dtype option on import or set low_memory=False.\n",
            "  for obj in iterable:\n",
            "3it [00:17,  6.23s/it]/usr/local/lib/python3.10/dist-packages/tqdm/std.py:1181: DtypeWarning: Columns (28,29,30) have mixed types. Specify dtype option on import or set low_memory=False.\n",
            "  for obj in iterable:\n",
            "4it [00:25,  6.61s/it]/usr/local/lib/python3.10/dist-packages/tqdm/std.py:1181: DtypeWarning: Columns (29,30) have mixed types. Specify dtype option on import or set low_memory=False.\n",
            "  for obj in iterable:\n",
            "5it [00:31,  6.39s/it]/usr/local/lib/python3.10/dist-packages/tqdm/std.py:1181: DtypeWarning: Columns (28,29,30) have mixed types. Specify dtype option on import or set low_memory=False.\n",
            "  for obj in iterable:\n",
            "7it [00:43,  6.25s/it]/usr/local/lib/python3.10/dist-packages/tqdm/std.py:1181: DtypeWarning: Columns (28,29,30) have mixed types. Specify dtype option on import or set low_memory=False.\n",
            "  for obj in iterable:\n",
            "8it [00:49,  6.20s/it]\n"
          ]
        }
      ]
    },
    {
      "cell_type": "markdown",
      "source": [],
      "metadata": {
        "id": "XW5zdUrm2hEt"
      }
    },
    {
      "cell_type": "code",
      "source": [
        "train_df.shape"
      ],
      "metadata": {
        "colab": {
          "base_uri": "https://localhost:8080/"
        },
        "id": "9KAwBDTx1L1I",
        "outputId": "5fe35e59-9f09-4e52-c27d-f4e4486a7044"
      },
      "execution_count": 5,
      "outputs": [
        {
          "output_type": "execute_result",
          "data": {
            "text/plain": [
              "(3837758, 35)"
            ]
          },
          "metadata": {},
          "execution_count": 5
        }
      ]
    },
    {
      "cell_type": "code",
      "source": [
        "train_df.info()"
      ],
      "metadata": {
        "colab": {
          "base_uri": "https://localhost:8080/"
        },
        "id": "nNRhe9BR3m2G",
        "outputId": "3557c54a-d7a7-46ef-f248-d3d9d2b831ce"
      },
      "execution_count": 6,
      "outputs": [
        {
          "output_type": "stream",
          "name": "stdout",
          "text": [
            "<class 'pandas.core.frame.DataFrame'>\n",
            "RangeIndex: 3837758 entries, 0 to 3837757\n",
            "Data columns (total 35 columns):\n",
            " #   Column                Dtype  \n",
            "---  ------                -----  \n",
            " 0   log_id                int64  \n",
            " 1   label                 int64  \n",
            " 2   user_id               int64  \n",
            " 3   age                   int64  \n",
            " 4   gender                int64  \n",
            " 5   residence             int64  \n",
            " 6   city                  int64  \n",
            " 7   city_rank             int64  \n",
            " 8   series_dev            int64  \n",
            " 9   series_group          int64  \n",
            " 10  emui_dev              int64  \n",
            " 11  device_name           int64  \n",
            " 12  device_size           int64  \n",
            " 13  net_type              int64  \n",
            " 14  task_id               int64  \n",
            " 15  adv_id                int64  \n",
            " 16  creat_type_cd         int64  \n",
            " 17  adv_prim_id           int64  \n",
            " 18  inter_type_cd         int64  \n",
            " 19  slot_id               int64  \n",
            " 20  site_id               int64  \n",
            " 21  spread_app_id         int64  \n",
            " 22  hispace_app_tags      int64  \n",
            " 23  app_second_class      int64  \n",
            " 24  app_score             float64\n",
            " 25  ad_click_list_v001    object \n",
            " 26  ad_click_list_v002    object \n",
            " 27  ad_click_list_v003    object \n",
            " 28  ad_close_list_v001    object \n",
            " 29  ad_close_list_v002    object \n",
            " 30  ad_close_list_v003    object \n",
            " 31  pt_d                  int64  \n",
            " 32  u_newsCatInterestsST  object \n",
            " 33  u_refreshTimes        int64  \n",
            " 34  u_feedLifeCycle       int64  \n",
            "dtypes: float64(1), int64(27), object(7)\n",
            "memory usage: 1.0+ GB\n"
          ]
        }
      ]
    },
    {
      "cell_type": "code",
      "source": [
        "print(f\" the support of ad_click_list_v001 is {train_df['ad_click_list_v001'].unique()}\")\n",
        "print(f\" the support of ad_click_list_v002 is {train_df['ad_click_list_v002'].unique()}\")\n",
        "print(f\" the support of ad_click_list_v003 is {train_df['ad_click_list_v003'].unique()}\")\n",
        "print(f\" the support of ad_close_list_v001 is {train_df['ad_close_list_v001'].unique()}\")\n",
        "print(f\" the support of ad_close_list_v002 is {train_df['ad_close_list_v002'].unique()}\")\n",
        "print(f\" the support of ad_close_list_v003 is {train_df['ad_close_list_v003'].unique()}\")"
      ],
      "metadata": {
        "colab": {
          "base_uri": "https://localhost:8080/"
        },
        "id": "nxYINu9r4azV",
        "outputId": "ee5b1bdf-18b7-474e-a820-dd79b6c9e693"
      },
      "execution_count": 7,
      "outputs": [
        {
          "output_type": "stream",
          "name": "stdout",
          "text": [
            " the support of ad_click_list_v001 is ['23769^14028^33764^22798^34197' '18536^16502^29163^30795^12889' '33764'\n",
            " ... '22763^32213^32317^20150' '31798^16066^35422^22548' '29902^10914']\n",
            " the support of ad_click_list_v002 is ['1220^1454^1690^1169^1356' '2009^1573^1633^1359^1520' '1690' ...\n",
            " '1109^1535' '1026^1968' '2009^1462']\n",
            " the support of ad_click_list_v003 is ['280^106^321^309^350' '346^350^162^343^310' '293' ...\n",
            " '372^301^280^219^344' '162^280^306^198' '306^153^240']\n",
            " the support of ad_close_list_v001 is ['24107' '11711^15603^21493^29568^29226' '17929' ...\n",
            " '20005^13874^11083^10583' '11240^22589' '26515^35353^21766^10519^14483']\n",
            " the support of ad_close_list_v002 is ['1218' '1795^1535^1036^1518' '1856' ... '1743^1090^1076' '1714^1542'\n",
            " '1597^1289^1690^1669^1036']\n",
            " the support of ad_close_list_v003 is ['173' '168^312^114' '162' ... '106^206^305^250^251' '114^162^344'\n",
            " '162^121^344^312^298']\n"
          ]
        }
      ]
    },
    {
      "cell_type": "code",
      "source": [
        "train_df.drop(['ad_click_list_v001','ad_click_list_v002', 'ad_click_list_v003', 'ad_close_list_v001', 'ad_close_list_v002','ad_close_list_v003'], axis =1,inplace = True)"
      ],
      "metadata": {
        "id": "V-aiy0jk8AJ9"
      },
      "execution_count": 8,
      "outputs": []
    },
    {
      "cell_type": "code",
      "source": [
        "train_df.shape"
      ],
      "metadata": {
        "colab": {
          "base_uri": "https://localhost:8080/"
        },
        "id": "k20ePOKq8-aY",
        "outputId": "aed440d2-f0c6-45c6-f671-27743bc1affc"
      },
      "execution_count": 9,
      "outputs": [
        {
          "output_type": "execute_result",
          "data": {
            "text/plain": [
              "(3837758, 29)"
            ]
          },
          "metadata": {},
          "execution_count": 9
        }
      ]
    },
    {
      "cell_type": "code",
      "source": [
        "def reduce_mem(df):\n",
        "    starttime = time.time()\n",
        "    numerics = ['int16', 'int32', 'int64', 'float16', 'float32', 'float64']\n",
        "    start_mem = df.memory_usage().sum() / 1024**2\n",
        "    for col in df.columns:\n",
        "        col_type = df[col].dtypes\n",
        "        if col_type in numerics:\n",
        "            c_min = df[col].min()\n",
        "            c_max = df[col].max()\n",
        "            if pd.isnull(c_min) or pd.isnull(c_max):\n",
        "                continue\n",
        "            if str(col_type)[:3] == 'int':\n",
        "                if c_min > np.iinfo(np.int8).min and c_max < np.iinfo(np.int8).max:\n",
        "                    df[col] = df[col].astype(np.int8)\n",
        "                elif c_min > np.iinfo(np.int16).min and c_max < np.iinfo(np.int16).max:\n",
        "                    df[col] = df[col].astype(np.int16)\n",
        "                elif c_min > np.iinfo(np.int32).min and c_max < np.iinfo(np.int32).max:\n",
        "                    df[col] = df[col].astype(np.int32)\n",
        "                elif c_min > np.iinfo(np.int64).min and c_max < np.iinfo(np.int64).max:\n",
        "                    df[col] = df[col].astype(np.int64)\n",
        "            else:\n",
        "                if c_min > np.finfo(np.float16).min and c_max < np.finfo(np.float16).max:\n",
        "                    df[col] = df[col].astype(np.float16)\n",
        "                elif c_min > np.finfo(np.float32).min and c_max < np.finfo(np.float32).max:\n",
        "                     df[col] = df[col].astype(np.float32)\n",
        "                else:\n",
        "                    df[col] = df[col].astype(np.float64)\n",
        "    end_mem = df.memory_usage().sum() / 1024**2\n",
        "    print('-- Mem. usage decreased to {:5.2f} Mb ({:.1f}% reduction),time spend:{:2.2f} min'.format(end_mem,\n",
        "                                                                                                           100*(start_mem-end_mem)/start_mem,\n",
        "                                                                                                           (time.time()-starttime)/60))\n",
        "    return df"
      ],
      "metadata": {
        "id": "g3nhc3qU9dR4"
      },
      "execution_count": 10,
      "outputs": []
    },
    {
      "cell_type": "code",
      "source": [
        "train_df.drop(['u_newsCatInterestsST'], axis = 1, inplace = True)\n",
        "train_df.info()"
      ],
      "metadata": {
        "colab": {
          "base_uri": "https://localhost:8080/"
        },
        "id": "vgVsvK4N-L7q",
        "outputId": "4869777c-e675-4c2f-825b-db6a43ead09b"
      },
      "execution_count": 11,
      "outputs": [
        {
          "output_type": "stream",
          "name": "stdout",
          "text": [
            "<class 'pandas.core.frame.DataFrame'>\n",
            "RangeIndex: 3837758 entries, 0 to 3837757\n",
            "Data columns (total 28 columns):\n",
            " #   Column            Dtype  \n",
            "---  ------            -----  \n",
            " 0   log_id            int64  \n",
            " 1   label             int64  \n",
            " 2   user_id           int64  \n",
            " 3   age               int64  \n",
            " 4   gender            int64  \n",
            " 5   residence         int64  \n",
            " 6   city              int64  \n",
            " 7   city_rank         int64  \n",
            " 8   series_dev        int64  \n",
            " 9   series_group      int64  \n",
            " 10  emui_dev          int64  \n",
            " 11  device_name       int64  \n",
            " 12  device_size       int64  \n",
            " 13  net_type          int64  \n",
            " 14  task_id           int64  \n",
            " 15  adv_id            int64  \n",
            " 16  creat_type_cd     int64  \n",
            " 17  adv_prim_id       int64  \n",
            " 18  inter_type_cd     int64  \n",
            " 19  slot_id           int64  \n",
            " 20  site_id           int64  \n",
            " 21  spread_app_id     int64  \n",
            " 22  hispace_app_tags  int64  \n",
            " 23  app_second_class  int64  \n",
            " 24  app_score         float64\n",
            " 25  pt_d              int64  \n",
            " 26  u_refreshTimes    int64  \n",
            " 27  u_feedLifeCycle   int64  \n",
            "dtypes: float64(1), int64(27)\n",
            "memory usage: 819.8 MB\n"
          ]
        }
      ]
    },
    {
      "cell_type": "code",
      "source": [
        "cate_cols = ['log_id', 'user_id', 'age', 'gender', 'residence', 'city', 'series_dev', 'series_group', 'emui_dev', 'device_name',\n",
        "             'net_type', 'task_id', 'adv_id', 'creat_type_cd', 'adv_prim_id', 'inter_type_cd','slot_id', 'slot_id',\n",
        "             'spread_app_id', 'hispace_app_tags', 'app_second_class']\n",
        "for f in tqdm(cate_cols):\n",
        "    train_df[f + '_count'] = train_df[f].map(train_df[f].value_counts())\n",
        "train_df = reduce_mem(train_df)"
      ],
      "metadata": {
        "colab": {
          "base_uri": "https://localhost:8080/"
        },
        "id": "oAXbJpl2PK9g",
        "outputId": "63236da3-d91a-41e0-b402-6ae9267c51c5"
      },
      "execution_count": 12,
      "outputs": [
        {
          "output_type": "stream",
          "name": "stderr",
          "text": [
            "100%|██████████| 21/21 [00:08<00:00,  2.42it/s]\n"
          ]
        },
        {
          "output_type": "stream",
          "name": "stdout",
          "text": [
            "-- Mem. usage decreased to 461.16 Mb (67.2% reduction),time spend:0.02 min\n"
          ]
        }
      ]
    },
    {
      "cell_type": "code",
      "source": [
        "train_df.columns"
      ],
      "metadata": {
        "colab": {
          "base_uri": "https://localhost:8080/"
        },
        "id": "lxTHMmD69ksY",
        "outputId": "adf1afd4-98ae-467e-9166-51419f08f529"
      },
      "execution_count": 13,
      "outputs": [
        {
          "output_type": "execute_result",
          "data": {
            "text/plain": [
              "Index(['log_id', 'label', 'user_id', 'age', 'gender', 'residence', 'city',\n",
              "       'city_rank', 'series_dev', 'series_group', 'emui_dev', 'device_name',\n",
              "       'device_size', 'net_type', 'task_id', 'adv_id', 'creat_type_cd',\n",
              "       'adv_prim_id', 'inter_type_cd', 'slot_id', 'site_id', 'spread_app_id',\n",
              "       'hispace_app_tags', 'app_second_class', 'app_score', 'pt_d',\n",
              "       'u_refreshTimes', 'u_feedLifeCycle', 'log_id_count', 'user_id_count',\n",
              "       'age_count', 'gender_count', 'residence_count', 'city_count',\n",
              "       'series_dev_count', 'series_group_count', 'emui_dev_count',\n",
              "       'device_name_count', 'net_type_count', 'task_id_count', 'adv_id_count',\n",
              "       'creat_type_cd_count', 'adv_prim_id_count', 'inter_type_cd_count',\n",
              "       'slot_id_count', 'spread_app_id_count', 'hispace_app_tags_count',\n",
              "       'app_second_class_count'],\n",
              "      dtype='object')"
            ]
          },
          "metadata": {},
          "execution_count": 13
        }
      ]
    },
    {
      "cell_type": "code",
      "source": [
        "def group_fea(df,key,target):\n",
        "    tmp = df.groupby(key, as_index=False)[target].agg({\n",
        "        key+\"_\"+target + '_nunique': 'nunique',\n",
        "    }).reset_index()\n",
        "    del tmp['index']\n",
        "    print(\"**************************{}**************************\".format(target))\n",
        "    return tmp\n",
        "\n",
        "feature_key = ['user_id','age','gender']\n",
        "feature_target = ['task_id','adv_id','adv_prim_id','slot_id', 'site_id', 'spread_app_id']\n",
        "\n",
        "for key in tqdm(feature_key):\n",
        "    for target in feature_target:\n",
        "        tmp = group_fea(train_df,key,target)\n",
        "        train_df = train_df.merge(tmp,on=key,how='left')"
      ],
      "metadata": {
        "colab": {
          "base_uri": "https://localhost:8080/"
        },
        "id": "hyf6MauiWzKV",
        "outputId": "17aa99ec-9baa-495d-a5ba-1af0f517b2b2"
      },
      "execution_count": 14,
      "outputs": [
        {
          "output_type": "stream",
          "name": "stderr",
          "text": [
            "\r  0%|          | 0/3 [00:00<?, ?it/s]"
          ]
        },
        {
          "output_type": "stream",
          "name": "stdout",
          "text": [
            "**************************task_id**************************\n",
            "**************************adv_id**************************\n",
            "**************************adv_prim_id**************************\n",
            "**************************slot_id**************************\n",
            "**************************site_id**************************\n",
            "**************************spread_app_id**************************\n"
          ]
        },
        {
          "output_type": "stream",
          "name": "stderr",
          "text": [
            "\r 33%|███▎      | 1/3 [00:22<00:45, 22.51s/it]"
          ]
        },
        {
          "output_type": "stream",
          "name": "stdout",
          "text": [
            "**************************task_id**************************\n",
            "**************************adv_id**************************\n",
            "**************************adv_prim_id**************************\n",
            "**************************slot_id**************************\n",
            "**************************site_id**************************\n",
            "**************************spread_app_id**************************\n"
          ]
        },
        {
          "output_type": "stream",
          "name": "stderr",
          "text": [
            "\r 67%|██████▋   | 2/3 [00:31<00:14, 14.32s/it]"
          ]
        },
        {
          "output_type": "stream",
          "name": "stdout",
          "text": [
            "**************************task_id**************************\n",
            "**************************adv_id**************************\n",
            "**************************adv_prim_id**************************\n",
            "**************************slot_id**************************\n",
            "**************************site_id**************************\n",
            "**************************spread_app_id**************************\n"
          ]
        },
        {
          "output_type": "stream",
          "name": "stderr",
          "text": [
            "100%|██████████| 3/3 [00:41<00:00, 13.67s/it]\n"
          ]
        }
      ]
    },
    {
      "cell_type": "code",
      "source": [
        "train_df.columns"
      ],
      "metadata": {
        "colab": {
          "base_uri": "https://localhost:8080/"
        },
        "id": "58T0-R8gYDEY",
        "outputId": "5f233f88-d8c4-4d54-994a-8bb06021e844"
      },
      "execution_count": 15,
      "outputs": [
        {
          "output_type": "execute_result",
          "data": {
            "text/plain": [
              "Index(['log_id', 'label', 'user_id', 'age', 'gender', 'residence', 'city',\n",
              "       'city_rank', 'series_dev', 'series_group', 'emui_dev', 'device_name',\n",
              "       'device_size', 'net_type', 'task_id', 'adv_id', 'creat_type_cd',\n",
              "       'adv_prim_id', 'inter_type_cd', 'slot_id', 'site_id', 'spread_app_id',\n",
              "       'hispace_app_tags', 'app_second_class', 'app_score', 'pt_d',\n",
              "       'u_refreshTimes', 'u_feedLifeCycle', 'log_id_count', 'user_id_count',\n",
              "       'age_count', 'gender_count', 'residence_count', 'city_count',\n",
              "       'series_dev_count', 'series_group_count', 'emui_dev_count',\n",
              "       'device_name_count', 'net_type_count', 'task_id_count', 'adv_id_count',\n",
              "       'creat_type_cd_count', 'adv_prim_id_count', 'inter_type_cd_count',\n",
              "       'slot_id_count', 'spread_app_id_count', 'hispace_app_tags_count',\n",
              "       'app_second_class_count', 'user_id_task_id_nunique',\n",
              "       'user_id_adv_id_nunique', 'user_id_adv_prim_id_nunique',\n",
              "       'user_id_slot_id_nunique', 'user_id_site_id_nunique',\n",
              "       'user_id_spread_app_id_nunique', 'age_task_id_nunique',\n",
              "       'age_adv_id_nunique', 'age_adv_prim_id_nunique', 'age_slot_id_nunique',\n",
              "       'age_site_id_nunique', 'age_spread_app_id_nunique',\n",
              "       'gender_task_id_nunique', 'gender_adv_id_nunique',\n",
              "       'gender_adv_prim_id_nunique', 'gender_slot_id_nunique',\n",
              "       'gender_site_id_nunique', 'gender_spread_app_id_nunique'],\n",
              "      dtype='object')"
            ]
          },
          "metadata": {},
          "execution_count": 15
        }
      ]
    },
    {
      "cell_type": "code",
      "source": [
        "group_list = []\n",
        "for s in train_df.columns:\n",
        "    if '_nunique' in s:\n",
        "        group_list.append(s)\n",
        "print(group_list)"
      ],
      "metadata": {
        "colab": {
          "base_uri": "https://localhost:8080/"
        },
        "id": "fQe6g1s1UCRF",
        "outputId": "45e1d3de-d7c5-46d2-afeb-969062e481ec"
      },
      "execution_count": 16,
      "outputs": [
        {
          "output_type": "stream",
          "name": "stdout",
          "text": [
            "['user_id_task_id_nunique', 'user_id_adv_id_nunique', 'user_id_adv_prim_id_nunique', 'user_id_slot_id_nunique', 'user_id_site_id_nunique', 'user_id_spread_app_id_nunique', 'age_task_id_nunique', 'age_adv_id_nunique', 'age_adv_prim_id_nunique', 'age_slot_id_nunique', 'age_site_id_nunique', 'age_spread_app_id_nunique', 'gender_task_id_nunique', 'gender_adv_id_nunique', 'gender_adv_prim_id_nunique', 'gender_slot_id_nunique', 'gender_site_id_nunique', 'gender_spread_app_id_nunique']\n"
          ]
        }
      ]
    },
    {
      "cell_type": "code",
      "source": [
        "from sklearn.model_selection import StratifiedKFold\n",
        "skf = StratifiedKFold(n_splits=5, shuffle=True, random_state=2022)\n",
        "enc_list = group_list + ['net_type', 'task_id', 'adv_id','adv_prim_id', 'age', 'app_second_class', 'city','user_id',\n",
        "                         'user_id_count', 'device_name', 'slot_id']\n",
        "for f in tqdm(enc_list):\n",
        "  train_df[f + '_target_enc'] = 0\n",
        "  for i, (trn_idx, val_idx) in enumerate(skf.split(train_df, train_df['label'])):\n",
        "    trn_x = train_df[[f, 'label']].iloc[trn_idx].reset_index(drop=True)\n",
        "    val_x = train_df[[f]].iloc[val_idx].reset_index(drop=True)\n",
        "    enc_df = trn_x.groupby(f, as_index=False)['label'].agg({f + '_target_enc': 'mean'})\n",
        "    val_x = val_x.merge(enc_df, on=f, how='left')\n",
        "    val_x[f + '_target_enc'] = val_x[f + '_target_enc'].fillna(train_df['label'].mean())\n",
        "    train_df.loc[val_idx, f + '_target_enc'] = val_x[f + '_target_enc'].values"
      ],
      "metadata": {
        "colab": {
          "base_uri": "https://localhost:8080/"
        },
        "id": "_0r3ud_pUln1",
        "outputId": "4d61feaa-f167-4bd7-c896-410df820ef45"
      },
      "execution_count": 17,
      "outputs": [
        {
          "output_type": "stream",
          "name": "stderr",
          "text": [
            "100%|██████████| 29/29 [01:18<00:00,  2.71s/it]\n"
          ]
        }
      ]
    },
    {
      "cell_type": "code",
      "source": [
        "train_df.shape"
      ],
      "metadata": {
        "colab": {
          "base_uri": "https://localhost:8080/"
        },
        "id": "hy1cyeAcZHs3",
        "outputId": "fb18efc8-9d84-4da5-f88c-9ab1415a6294"
      },
      "execution_count": 18,
      "outputs": [
        {
          "output_type": "execute_result",
          "data": {
            "text/plain": [
              "(3837758, 95)"
            ]
          },
          "metadata": {},
          "execution_count": 18
        }
      ]
    },
    {
      "cell_type": "code",
      "source": [
        "file_path = '/content/drive/My Drive/train_data_2022_processed.csv'\n",
        "\n",
        "# Chunk size\n",
        "chunk_size = 2  # You can adjust the chunk size as needed\n",
        "\n",
        "# Calculate the number of chunks\n",
        "num_chunks = len(train_df) // chunk_size + (1 if len(train_df) % chunk_size > 0 else 0)\n",
        "\n",
        "# Export CSV in chunks with progress bar\n",
        "with open(file_path, 'w') as f:\n",
        "    for i, chunk in enumerate(tqdm(range(0, len(train_df), chunk_size), total=num_chunks, desc=\"Exporting CSV\")):\n",
        "        train_df.iloc[chunk:chunk + chunk_size].to_csv(f, header=(i == 0), index=False)"
      ],
      "metadata": {
        "colab": {
          "base_uri": "https://localhost:8080/"
        },
        "id": "IoxXTGTaZxON",
        "outputId": "6dd908c2-8506-4dbe-b000-98500c08164b"
      },
      "execution_count": null,
      "outputs": [
        {
          "output_type": "stream",
          "name": "stderr",
          "text": [
            "Exporting CSV:  30%|██▉       | 566829/1918879 [50:33<1428:23:46,  3.80s/it]Exception ignored in: Exception ignored in sys.unraisablehook: <built-in function unraisablehook>\n",
            "Traceback (most recent call last):\n",
            "  File \"/usr/local/lib/python3.10/dist-packages/ipykernel/iostream.py\", line 402, in write\n",
            "    self.pub_thread.schedule(lambda : self._buffer.write(string))\n"
          ]
        }
      ]
    },
    {
      "cell_type": "code",
      "source": [
        "# Sample DataFrame\n",
        "data = {\n",
        "    'product': ['A', 'A', 'B', 'B', 'B', 'C'],\n",
        "    'sales': [100, 100, 200, 250, 300, 400],\n",
        "    'my_value':[1,2,1,1,1,40]\n",
        "}\n",
        "df = pd.DataFrame(data)\n",
        "\n",
        "# Group by 'product' and aggregate with sum\n",
        "grouped = df.groupby('product', as_index = False)['my_value'].agg({'sales': 'nunique'})\n",
        "del df"
      ],
      "metadata": {
        "id": "hveKdbAiZCO5"
      },
      "execution_count": null,
      "outputs": []
    },
    {
      "cell_type": "code",
      "source": [],
      "metadata": {
        "id": "i6dXu4zJeNsV"
      },
      "execution_count": null,
      "outputs": []
    }
  ]
}